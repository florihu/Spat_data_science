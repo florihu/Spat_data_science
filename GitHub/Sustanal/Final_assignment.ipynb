{
 "cells": [
  {
   "cell_type": "markdown",
   "source": [
    "Decison for indicator\n",
    "\n",
    "Secondary: NV.IND.TOTL.ZS https://data.worldbank.org/indicator/NV.IND.TOTL.ZS?view=chart\n",
    "Primary: ER.H2O.FWIN.ZS https://data.worldbank.org/indicator/ER.H2O.FWIN.ZS\n",
    "\n",
    "The basic assumption is that a similar content of % GDP of industry lead to a similar & of total water withdrawl of industry\n",
    "\n",
    "Here we load the data"
   ],
   "metadata": {
    "collapsed": false
   }
  },
  {
   "cell_type": "code",
   "execution_count": 48,
   "metadata": {
    "collapsed": true,
    "ExecuteTime": {
     "start_time": "2023-09-21T15:49:38.524222Z",
     "end_time": "2023-09-21T15:49:39.287662Z"
    }
   },
   "outputs": [],
   "source": [
    "import wbgapi as wb\n",
    "\n",
    "\n",
    "data = wb.data.DataFrame(['ER.H2O.FWIN.ZS','NV.IND.TOTL.ZS'], time=[2020] )\n",
    "\n"
   ]
  },
  {
   "cell_type": "code",
   "execution_count": 92,
   "outputs": [
    {
     "name": "stdout",
     "output_type": "stream",
     "text": [
      "                 key_0  ER.H2O.FWIN.ZS  NV.IND.TOTL.ZS\n",
      "    name                                              \n",
      "ABW Aruba          ABW             NaN             NaN\n",
      "AFG Afghanistan    AFG        0.831988       14.031699\n",
      "AGO Angola         AGO       33.947294       45.678242\n",
      "ALB Albania        ALB        2.035623       20.114530\n",
      "AND Andorra        AND             NaN       12.660158\n",
      "...                ...             ...             ...\n",
      "XKX Kosovo         XKX             NaN       27.558457\n",
      "YEM Yemen, Rep.    YEM        1.823282             NaN\n",
      "ZAF South Africa   ZAF       21.313440       23.272787\n",
      "ZMB Zambia         ZMB        8.269720       40.257899\n",
      "ZWE Zimbabwe       ZWE        2.157087       32.767517\n",
      "\n",
      "[217 rows x 3 columns]\n"
     ]
    }
   ],
   "source": [
    "import pandas as pd\n",
    "\n",
    "import numpy as np\n",
    "# Get information about all economies (countries and regions)\n",
    "#all_economies = wb.economy.Series(id='all')\n",
    "def region_cleaner(data):\n",
    "    economies = wb.economy.DataFrame()\n",
    "    aggregates_id = economies[economies['aggregate'] == True]\n",
    "    data_clean = data.loc[data.index.difference(aggregates_id.index)]\n",
    "    data_clean_name = data_clean.join(economies['name'], on = data_clean.index, how = 'inner')\n",
    "\n",
    "    data_clean_name.set_index('name', append=True, inplace =True)\n",
    "\n",
    "\n",
    "    return data_clean_name\n",
    "\n",
    "def nan_checker(data):\n",
    "    return data.isna().sum()\n",
    "\n",
    "\n",
    "print(region_cleaner(data))\n",
    "\n"
   ],
   "metadata": {
    "collapsed": false,
    "ExecuteTime": {
     "start_time": "2023-09-21T17:10:26.645385Z",
     "end_time": "2023-09-21T17:10:27.394487Z"
    }
   }
  },
  {
   "cell_type": "code",
   "execution_count": 93,
   "outputs": [
    {
     "name": "stdout",
     "output_type": "stream",
     "text": [
      "                             key_0  ER.H2O.FWIN.ZS  NV.IND.TOTL.ZS\n",
      "    name                                                          \n",
      "AND Andorra                    AND             NaN       12.660158\n",
      "BHS Bahamas, The               BHS             NaN       11.962561\n",
      "BIH Bosnia and Herzegovina     BIH             NaN       23.777561\n",
      "BMU Bermuda                    BMU             NaN        5.634176\n",
      "BRN Brunei Darussalam          BRN             NaN       59.133630\n",
      "CHI Channel Islands            CHI             NaN        7.670195\n",
      "CUW Curacao                    CUW             NaN       15.031198\n",
      "CYM Cayman Islands             CYM             NaN        8.148046\n",
      "FRO Faroe Islands              FRO             NaN       20.640089\n",
      "FSM Micronesia, Fed. Sts.      FSM             NaN        4.885343\n",
      "GRL Greenland                  GRL             NaN       18.346249\n",
      "HKG Hong Kong SAR, China       HKG             NaN        6.170582\n",
      "IMN Isle of Man                IMN             NaN        8.884446\n",
      "KIR Kiribati                   KIR             NaN        9.974729\n",
      "LIE Liechtenstein              LIE             NaN       40.305953\n",
      "MAC Macao SAR, China           MAC             NaN        8.444978\n",
      "MHL Marshall Islands           MHL             NaN       13.403392\n",
      "PLW Palau                      PLW             NaN       12.862247\n",
      "SLB Solomon Islands            SLB             NaN       17.244987\n",
      "SMR San Marino                 SMR             NaN       35.614922\n",
      "TCA Turks and Caicos Islands   TCA             NaN       15.652894\n",
      "TON Tonga                      TON             NaN       14.775901\n",
      "WSM Samoa                      WSM             NaN       11.122376\n",
      "XKX Kosovo                     XKX             NaN       27.558457\n"
     ]
    }
   ],
   "source": [
    "def proxy_countries(data):\n",
    "    return data[~data['NV.IND.TOTL.ZS'].isna() & data['ER.H2O.FWIN.ZS'].isna()]\n",
    "\n",
    "print(proxy_countries(region_cleaner(data)))"
   ],
   "metadata": {
    "collapsed": false,
    "ExecuteTime": {
     "start_time": "2023-09-21T17:10:32.045189Z",
     "end_time": "2023-09-21T17:10:32.881937Z"
    }
   }
  },
  {
   "cell_type": "code",
   "execution_count": 85,
   "outputs": [
    {
     "name": "stdout",
     "output_type": "stream",
     "text": [
      "     ER.H2O.FWIN.ZS  NV.IND.TOTL.ZS\n",
      "ABW             NaN             NaN\n",
      "AFG        0.831988       14.031699\n",
      "AGO       33.947294       45.678242\n",
      "ALB        2.035623       20.114530\n",
      "AND             NaN       12.660158\n",
      "..              ...             ...\n",
      "XKX             NaN       27.558457\n",
      "YEM        1.823282             NaN\n",
      "ZAF       21.313440       23.272787\n",
      "ZMB        8.269720       40.257899\n",
      "ZWE        2.157087       32.767517\n",
      "\n",
      "[217 rows x 2 columns]\n"
     ]
    }
   ],
   "source": [
    "print(region_cleaner(data))"
   ],
   "metadata": {
    "collapsed": false,
    "ExecuteTime": {
     "start_time": "2023-09-21T17:08:15.645934Z",
     "end_time": "2023-09-21T17:08:16.460736Z"
    }
   }
  }
 ],
 "metadata": {
  "kernelspec": {
   "display_name": "Python 3",
   "language": "python",
   "name": "python3"
  },
  "language_info": {
   "codemirror_mode": {
    "name": "ipython",
    "version": 2
   },
   "file_extension": ".py",
   "mimetype": "text/x-python",
   "name": "python",
   "nbconvert_exporter": "python",
   "pygments_lexer": "ipython2",
   "version": "2.7.6"
  }
 },
 "nbformat": 4,
 "nbformat_minor": 0
}
